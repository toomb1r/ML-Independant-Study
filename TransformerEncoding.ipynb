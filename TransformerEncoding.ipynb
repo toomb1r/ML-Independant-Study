{
 "cells": [
  {
   "cell_type": "code",
   "execution_count": null,
   "id": "4d38d3c3-ba13-4708-95b9-d42f152856c4",
   "metadata": {},
   "outputs": [],
   "source": [
    "# extractive vs abstractive summarization\n",
    "# https://blog.paperspace.com/extractive-and-abstractive-summarization-techniques/\n",
    "\n",
    "# https://medium.com/@koyelac/abstractive-text-summarization-with-transformer-model-using-pytorch-8a96f9f35566\n",
    "# commenting out imports that I dont think I need\n",
    "import numpy as np\n",
    "import pandas as pd\n",
    "import nltk\n",
    "from nltk.corpus import stopwords\n",
    "from nltk.tokenize import word_tokenize, sent_tokenize\n",
    "import re\n",
    "# import warnings\n",
    "# warnings.filterwarnings(\"ignore\")\n",
    "from sklearn.model_selection import train_test_split as tts\n",
    "import torch\n",
    "import collections \n",
    "from collections import Counter\n",
    "from torch import nn\n",
    "from torch.utils.data import Dataset, DataLoader\n",
    "# from bs4 import BeautifulSoup \n",
    "import math"
   ]
  },
  {
   "cell_type": "code",
   "execution_count": null,
   "id": "0b907240",
   "metadata": {},
   "outputs": [],
   "source": [
    "#Ugh Amazon Reviews \n",
    "df = pd.read_csv('Reviews.csv', nrows = 10000)\n",
    "data = df[['Text', 'Summary']]\n",
    "data.drop_duplicates(subset=['Text'], inplace=True) # Drop duplicate rows"
   ]
  }
 ],
 "metadata": {
  "kernelspec": {
   "display_name": "Python 3 (ipykernel)",
   "language": "python",
   "name": "python3"
  },
  "language_info": {
   "codemirror_mode": {
    "name": "ipython",
    "version": 3
   },
   "file_extension": ".py",
   "mimetype": "text/x-python",
   "name": "python",
   "nbconvert_exporter": "python",
   "pygments_lexer": "ipython3",
   "version": "3.10.12"
  }
 },
 "nbformat": 4,
 "nbformat_minor": 5
}
